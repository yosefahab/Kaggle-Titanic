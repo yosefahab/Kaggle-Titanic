{
 "cells": [
  {
   "cell_type": "markdown",
   "metadata": {},
   "source": [
    "# Titanic survivors prediction"
   ]
  },
  {
   "cell_type": "markdown",
   "metadata": {},
   "source": [
    "#### Imports"
   ]
  },
  {
   "cell_type": "code",
   "execution_count": 373,
   "metadata": {},
   "outputs": [],
   "source": [
    "# basic tools and visualization libs\n",
    "import numpy as np\n",
    "from matplotlib import pyplot as plt\n",
    "import pandas as pd\n",
    "import seaborn as sb\n",
    "from scipy import stats\n",
    "\n",
    "# preprocessing\n",
    "from sklearn.preprocessing import MinMaxScaler\n",
    "from sklearn.preprocessing import OneHotEncoder\n",
    "\n",
    "# models\n",
    "from sklearn.naive_bayes import GaussianNB\n",
    "from sklearn.linear_model import LogisticRegression\n",
    "from sklearn.svm import SVC\n",
    "from sklearn import tree\n",
    "from sklearn.neighbors import KNeighborsClassifier\n",
    "from sklearn.ensemble import RandomForestClassifier\n",
    "\n",
    "from xgboost import XGBClassifier\n",
    "\n",
    "from sklearn.ensemble import VotingClassifier\n",
    "from sklearn.model_selection import cross_val_score\n",
    "\n",
    "import sklearn.metrics\n",
    "\n",
    "from sklearn.model_selection import GridSearchCV "
   ]
  },
  {
   "cell_type": "markdown",
   "metadata": {},
   "source": [
    "#### Configurations"
   ]
  },
  {
   "cell_type": "code",
   "execution_count": 374,
   "metadata": {},
   "outputs": [],
   "source": [
    "plt.rcParams['figure.figsize'] = (8, 5)\n",
    "plt.style.use('dark_background')\n",
    "endDel = '\\n\\t' + '---'*15 + '\\n'"
   ]
  },
  {
   "cell_type": "markdown",
   "metadata": {},
   "source": [
    "#### 1. Data Exploration & Understanding"
   ]
  },
  {
   "cell_type": "code",
   "execution_count": 375,
   "metadata": {},
   "outputs": [
    {
     "name": "stdout",
     "output_type": "stream",
     "text": [
      "<class 'pandas.core.frame.DataFrame'>\n",
      "Int64Index: 891 entries, 1 to 891\n",
      "Data columns (total 11 columns):\n",
      " #   Column    Non-Null Count  Dtype  \n",
      "---  ------    --------------  -----  \n",
      " 0   Survived  891 non-null    int64  \n",
      " 1   Pclass    891 non-null    int64  \n",
      " 2   Name      891 non-null    object \n",
      " 3   Sex       891 non-null    object \n",
      " 4   Age       714 non-null    float64\n",
      " 5   SibSp     891 non-null    int64  \n",
      " 6   Parch     891 non-null    int64  \n",
      " 7   Ticket    891 non-null    object \n",
      " 8   Fare      891 non-null    float64\n",
      " 9   Cabin     204 non-null    object \n",
      " 10  Embarked  889 non-null    object \n",
      "dtypes: float64(2), int64(4), object(5)\n",
      "memory usage: 83.5+ KB\n",
      "         Survived      Pclass         Age       SibSp       Parch        Fare\n",
      "count  891.000000  891.000000  714.000000  891.000000  891.000000  891.000000\n",
      "mean     0.383838    2.308642   29.699118    0.523008    0.381594   32.204208\n",
      "std      0.486592    0.836071   14.526497    1.102743    0.806057   49.693429\n",
      "min      0.000000    1.000000    0.420000    0.000000    0.000000    0.000000\n",
      "25%      0.000000    2.000000   20.125000    0.000000    0.000000    7.910400\n",
      "50%      0.000000    3.000000   28.000000    0.000000    0.000000   14.454200\n",
      "75%      1.000000    3.000000   38.000000    1.000000    0.000000   31.000000\n",
      "max      1.000000    3.000000   80.000000    8.000000    6.000000  512.329200\n"
     ]
    },
    {
     "data": {
      "text/html": [
       "<div>\n",
       "<style scoped>\n",
       "    .dataframe tbody tr th:only-of-type {\n",
       "        vertical-align: middle;\n",
       "    }\n",
       "\n",
       "    .dataframe tbody tr th {\n",
       "        vertical-align: top;\n",
       "    }\n",
       "\n",
       "    .dataframe thead th {\n",
       "        text-align: right;\n",
       "    }\n",
       "</style>\n",
       "<table border=\"1\" class=\"dataframe\">\n",
       "  <thead>\n",
       "    <tr style=\"text-align: right;\">\n",
       "      <th></th>\n",
       "      <th>Survived</th>\n",
       "      <th>Pclass</th>\n",
       "      <th>Name</th>\n",
       "      <th>Sex</th>\n",
       "      <th>Age</th>\n",
       "      <th>SibSp</th>\n",
       "      <th>Parch</th>\n",
       "      <th>Ticket</th>\n",
       "      <th>Fare</th>\n",
       "      <th>Cabin</th>\n",
       "      <th>Embarked</th>\n",
       "    </tr>\n",
       "    <tr>\n",
       "      <th>PassengerId</th>\n",
       "      <th></th>\n",
       "      <th></th>\n",
       "      <th></th>\n",
       "      <th></th>\n",
       "      <th></th>\n",
       "      <th></th>\n",
       "      <th></th>\n",
       "      <th></th>\n",
       "      <th></th>\n",
       "      <th></th>\n",
       "      <th></th>\n",
       "    </tr>\n",
       "  </thead>\n",
       "  <tbody>\n",
       "    <tr>\n",
       "      <th>1</th>\n",
       "      <td>0</td>\n",
       "      <td>3</td>\n",
       "      <td>Braund, Mr. Owen Harris</td>\n",
       "      <td>male</td>\n",
       "      <td>22.0</td>\n",
       "      <td>1</td>\n",
       "      <td>0</td>\n",
       "      <td>A/5 21171</td>\n",
       "      <td>7.2500</td>\n",
       "      <td>NaN</td>\n",
       "      <td>S</td>\n",
       "    </tr>\n",
       "    <tr>\n",
       "      <th>2</th>\n",
       "      <td>1</td>\n",
       "      <td>1</td>\n",
       "      <td>Cumings, Mrs. John Bradley (Florence Briggs Th...</td>\n",
       "      <td>female</td>\n",
       "      <td>38.0</td>\n",
       "      <td>1</td>\n",
       "      <td>0</td>\n",
       "      <td>PC 17599</td>\n",
       "      <td>71.2833</td>\n",
       "      <td>C85</td>\n",
       "      <td>C</td>\n",
       "    </tr>\n",
       "    <tr>\n",
       "      <th>3</th>\n",
       "      <td>1</td>\n",
       "      <td>3</td>\n",
       "      <td>Heikkinen, Miss. Laina</td>\n",
       "      <td>female</td>\n",
       "      <td>26.0</td>\n",
       "      <td>0</td>\n",
       "      <td>0</td>\n",
       "      <td>STON/O2. 3101282</td>\n",
       "      <td>7.9250</td>\n",
       "      <td>NaN</td>\n",
       "      <td>S</td>\n",
       "    </tr>\n",
       "    <tr>\n",
       "      <th>4</th>\n",
       "      <td>1</td>\n",
       "      <td>1</td>\n",
       "      <td>Futrelle, Mrs. Jacques Heath (Lily May Peel)</td>\n",
       "      <td>female</td>\n",
       "      <td>35.0</td>\n",
       "      <td>1</td>\n",
       "      <td>0</td>\n",
       "      <td>113803</td>\n",
       "      <td>53.1000</td>\n",
       "      <td>C123</td>\n",
       "      <td>S</td>\n",
       "    </tr>\n",
       "    <tr>\n",
       "      <th>5</th>\n",
       "      <td>0</td>\n",
       "      <td>3</td>\n",
       "      <td>Allen, Mr. William Henry</td>\n",
       "      <td>male</td>\n",
       "      <td>35.0</td>\n",
       "      <td>0</td>\n",
       "      <td>0</td>\n",
       "      <td>373450</td>\n",
       "      <td>8.0500</td>\n",
       "      <td>NaN</td>\n",
       "      <td>S</td>\n",
       "    </tr>\n",
       "  </tbody>\n",
       "</table>\n",
       "</div>"
      ],
      "text/plain": [
       "             Survived  Pclass  \\\n",
       "PassengerId                     \n",
       "1                   0       3   \n",
       "2                   1       1   \n",
       "3                   1       3   \n",
       "4                   1       1   \n",
       "5                   0       3   \n",
       "\n",
       "                                                          Name     Sex   Age  \\\n",
       "PassengerId                                                                    \n",
       "1                                      Braund, Mr. Owen Harris    male  22.0   \n",
       "2            Cumings, Mrs. John Bradley (Florence Briggs Th...  female  38.0   \n",
       "3                                       Heikkinen, Miss. Laina  female  26.0   \n",
       "4                 Futrelle, Mrs. Jacques Heath (Lily May Peel)  female  35.0   \n",
       "5                                     Allen, Mr. William Henry    male  35.0   \n",
       "\n",
       "             SibSp  Parch            Ticket     Fare Cabin Embarked  \n",
       "PassengerId                                                          \n",
       "1                1      0         A/5 21171   7.2500   NaN        S  \n",
       "2                1      0          PC 17599  71.2833   C85        C  \n",
       "3                0      0  STON/O2. 3101282   7.9250   NaN        S  \n",
       "4                1      0            113803  53.1000  C123        S  \n",
       "5                0      0            373450   8.0500   NaN        S  "
      ]
     },
     "execution_count": 375,
     "metadata": {},
     "output_type": "execute_result"
    }
   ],
   "source": [
    "original_data = pd.read_csv(\"Data/train.csv\", index_col=\"PassengerId\")\n",
    "original_data.info()\n",
    "\n",
    "numericals = original_data[[\"Age\", \"SibSp\", \"Fare\", \"Parch\"]]\n",
    "categoricals = original_data[list(set(original_data.columns) - set(numericals))]\n",
    "# SibSp: number of sibilings + spouses aboard\n",
    "# Parch: number of parents + children aboard\n",
    "# Pclass: Ticket class\n",
    "# Embarked: Port of Embarkation\t{ C = Cherbourg, Q = Queenstown, S = Southampton }\n",
    "print(original_data.describe())\n",
    "original_data.head()"
   ]
  },
  {
   "cell_type": "markdown",
   "metadata": {},
   "source": [
    "#### 2. Data Cleaning"
   ]
  },
  {
   "cell_type": "code",
   "execution_count": 376,
   "metadata": {},
   "outputs": [
    {
     "data": {
      "text/plain": [
       "Survived      0\n",
       "Pclass        0\n",
       "Name          0\n",
       "Sex           0\n",
       "Age           0\n",
       "SibSp         0\n",
       "Parch         0\n",
       "Ticket        0\n",
       "Fare          0\n",
       "Cabin       529\n",
       "Embarked      0\n",
       "dtype: int64"
      ]
     },
     "execution_count": 376,
     "metadata": {},
     "output_type": "execute_result"
    }
   ],
   "source": [
    "original_data.dropna(subset=[\"Embarked\", \"Age\"], inplace=True)\n",
    "original_data.isna().sum()"
   ]
  },
  {
   "cell_type": "markdown",
   "metadata": {},
   "source": [
    "#### 3. Exploration & Visualization"
   ]
  },
  {
   "cell_type": "markdown",
   "metadata": {},
   "source": [
    "##### Distributions for numerical features"
   ]
  },
  {
   "cell_type": "code",
   "execution_count": 377,
   "metadata": {},
   "outputs": [
    {
     "data": {
      "image/png": "[encoded data removed]",
      "text/plain": [
       "<Figure size 864x936 with 4 Axes>"
      ]
     },
     "metadata": {},
     "output_type": "display_data"
    }
   ],
   "source": [
    "_, ax = plt.subplots(2, 2, figsize=(12, 13))\n",
    "for i, n in enumerate(numericals):\n",
    "    sb.histplot(data=original_data, ax=ax[i%2, 0 if i < 2 else 1], x=original_data[n], bins=7).set_title(n)"
   ]
  },
  {
   "cell_type": "markdown",
   "metadata": {},
   "source": [
    "##### Correlation"
   ]
  },
  {
   "cell_type": "code",
   "execution_count": 378,
   "metadata": {},
   "outputs": [
    {
     "name": "stdout",
     "output_type": "stream",
     "text": [
      "            Age     SibSp      Fare     Parch\n",
      "Age    1.000000 -0.308247  0.096067 -0.189119\n",
      "SibSp -0.308247  1.000000  0.159651  0.414838\n",
      "Fare   0.096067  0.159651  1.000000  0.216225\n",
      "Parch -0.189119  0.414838  0.216225  1.000000\n"
     ]
    },
    {
     "data": {
      "text/plain": [
       "<AxesSubplot:>"
      ]
     },
     "execution_count": 378,
     "metadata": {},
     "output_type": "execute_result"
    },
    {
     "data": {
      "image/png": "[encoded data removed]",
      "text/plain": [
       "<Figure size 576x360 with 2 Axes>"
      ]
     },
     "metadata": {},
     "output_type": "display_data"
    }
   ],
   "source": [
    "print(numericals.corr())\n",
    "sb.heatmap(numericals.corr())"
   ]
  },
  {
   "cell_type": "markdown",
   "metadata": {},
   "source": [
    "##### Categoricals barplots"
   ]
  },
  {
   "cell_type": "code",
   "execution_count": 379,
   "metadata": {},
   "outputs": [
    {
     "data": {
      "image/png": "[encoded data removed]",
      "text/plain": [
       "<Figure size 864x360 with 3 Axes>"
      ]
     },
     "metadata": {},
     "output_type": "display_data"
    }
   ],
   "source": [
    "_, ax = plt.subplots(1, 3, figsize=(12, 5))\n",
    "for i, c in enumerate(categoricals.drop([\"Survived\", \"Ticket\", \"Cabin\", \"Name\"], axis=1).columns):\n",
    "    sb.barplot(ax=ax[i%3], x=categoricals[c].value_counts().index, y=categoricals[c].value_counts()).set_title(c)"
   ]
  },
  {
   "cell_type": "markdown",
   "metadata": {},
   "source": [
    "##### Pivot Tables"
   ]
  },
  {
   "cell_type": "code",
   "execution_count": 380,
   "metadata": {},
   "outputs": [
    {
     "name": "stdout",
     "output_type": "stream",
     "text": [
      "Sex       female  male\n",
      "Survived              \n",
      "0             64   360\n",
      "1            195    93\n",
      "\t---------------------------------------------\n",
      "Embarked   C   Q    S\n",
      "Survived             \n",
      "0         51  20  353\n",
      "1         79   8  201\n",
      "\t---------------------------------------------\n",
      "Pclass      1   2    3\n",
      "Survived              \n",
      "0          64  90  270\n",
      "1         120  83   85\n",
      "\t---------------------------------------------\n",
      "                Age       Fare     Parch     SibSp\n",
      "Survived                                          \n",
      "0         30.626179  22.965456  0.365566  0.525943\n",
      "1         28.193299  51.647672  0.531250  0.496528\n",
      "\t---------------------------------------------\n"
     ]
    }
   ],
   "source": [
    "print(pd.pivot_table(original_data, index=\"Survived\", columns=\"Sex\", values=\"Ticket\", aggfunc=\"count\"), end=endDel)\n",
    "print(pd.pivot_table(original_data, index=\"Survived\", columns=\"Embarked\", values=\"Ticket\", aggfunc=\"count\"), end=endDel)\n",
    "print(pd.pivot_table(original_data, index=\"Survived\", columns=\"Pclass\", values=\"Ticket\", aggfunc=\"count\"), end=endDel)\n",
    "print(pd.pivot_table(original_data, index=\"Survived\", values=numericals, aggfunc=\"mean\"), end=endDel)"
   ]
  },
  {
   "cell_type": "markdown",
   "metadata": {},
   "source": [
    "#### 4. Feature Engineering"
   ]
  },
  {
   "cell_type": "code",
   "execution_count": 381,
   "metadata": {},
   "outputs": [
    {
     "name": "stdout",
     "output_type": "stream",
     "text": [
      "Cabins_count      0      1    2    3    4\n",
      "Survived                                 \n",
      "0             364.0   50.0  7.0  3.0  NaN\n",
      "1             165.0  110.0  8.0  3.0  2.0\n",
      "\t---------------------------------------------\n",
      "Cabin_letter    A     B     C     D     E    F    G    T      n\n",
      "Survived                                                       \n",
      "0             5.0  11.0  21.0   8.0   8.0  4.0  2.0  1.0  364.0\n",
      "1             7.0  32.0  30.0  23.0  22.0  7.0  2.0  NaN  165.0\n",
      "\t---------------------------------------------\n",
      "Title     Capt  Col  Don   Dr  Jonkheer  Lady  Major  Master   Miss  Mlle  \\\n",
      "Survived                                                                    \n",
      "0          1.0  1.0  1.0  3.0       1.0   NaN    1.0    15.0   41.0   NaN   \n",
      "1          NaN  1.0  NaN  3.0       NaN   1.0    1.0    21.0  104.0   2.0   \n",
      "\n",
      "Title     Mme     Mr   Mrs   Ms  Rev  Sir  the Countess  \n",
      "Survived                                                 \n",
      "0         NaN  331.0  23.0  NaN  6.0  NaN           NaN  \n",
      "1         1.0   67.0  84.0  1.0  NaN  1.0           1.0  \n",
      "\t---------------------------------------------\n"
     ]
    }
   ],
   "source": [
    "# how many cabins for that particular person\n",
    "original_data[\"Cabins_count\"] = original_data.Cabin.apply(lambda x : 0 if pd.isna(x) else len(x.split(' ')))\n",
    "print(pd.pivot_table(original_data, index=\"Survived\", columns=\"Cabins_count\", values=\"Ticket\", aggfunc=\"count\"), end=endDel)\n",
    "\n",
    "# is cabin type related to survival rate\n",
    "original_data[\"Cabin_letter\"] = original_data.Cabin.apply(lambda x: str(x)[0].strip())\n",
    "print(pd.pivot_table(original_data, index=\"Survived\", columns=\"Cabin_letter\", values=\"Name\", aggfunc=\"count\"), end=endDel)\n",
    "\n",
    "# is person's title related to survival rate\n",
    "original_data[\"Title\"] = original_data.Name.apply(lambda x: x.split(',')[1].split('.')[0].strip())\n",
    "print(pd.pivot_table(original_data, index=\"Survived\", columns=\"Title\", values=\"Name\", aggfunc=\"count\"), end=endDel)\n",
    "\n",
    "# keep numbers only in tickets\n",
    "# original_data.Ticket = original_data.Ticket.apply(lambda x: x.split(' ')[-1]) (dropped)\n",
    "# original_data.Ticket = original_data.Ticket.apply(lambda x: x if x.isnumeric() else 0) (dropped)"
   ]
  },
  {
   "cell_type": "markdown",
   "metadata": {},
   "source": [
    "#### 5. Data preprocessing for model"
   ]
  },
  {
   "cell_type": "code",
   "execution_count": 382,
   "metadata": {},
   "outputs": [
    {
     "data": {
      "text/html": [
       "<div>\n",
       "<style scoped>\n",
       "    .dataframe tbody tr th:only-of-type {\n",
       "        vertical-align: middle;\n",
       "    }\n",
       "\n",
       "    .dataframe tbody tr th {\n",
       "        vertical-align: top;\n",
       "    }\n",
       "\n",
       "    .dataframe thead th {\n",
       "        text-align: right;\n",
       "    }\n",
       "</style>\n",
       "<table border=\"1\" class=\"dataframe\">\n",
       "  <thead>\n",
       "    <tr style=\"text-align: right;\">\n",
       "      <th></th>\n",
       "      <th>Pclass</th>\n",
       "      <th>Age</th>\n",
       "      <th>SibSp</th>\n",
       "      <th>Parch</th>\n",
       "      <th>Fare</th>\n",
       "      <th>Cabins_count</th>\n",
       "      <th>Sex_male</th>\n",
       "      <th>Embarked_Q</th>\n",
       "      <th>Embarked_S</th>\n",
       "      <th>Cabin_letter_B</th>\n",
       "      <th>...</th>\n",
       "      <th>Title_Master</th>\n",
       "      <th>Title_Miss</th>\n",
       "      <th>Title_Mlle</th>\n",
       "      <th>Title_Mme</th>\n",
       "      <th>Title_Mr</th>\n",
       "      <th>Title_Mrs</th>\n",
       "      <th>Title_Ms</th>\n",
       "      <th>Title_Rev</th>\n",
       "      <th>Title_Sir</th>\n",
       "      <th>Title_the Countess</th>\n",
       "    </tr>\n",
       "    <tr>\n",
       "      <th>PassengerId</th>\n",
       "      <th></th>\n",
       "      <th></th>\n",
       "      <th></th>\n",
       "      <th></th>\n",
       "      <th></th>\n",
       "      <th></th>\n",
       "      <th></th>\n",
       "      <th></th>\n",
       "      <th></th>\n",
       "      <th></th>\n",
       "      <th></th>\n",
       "      <th></th>\n",
       "      <th></th>\n",
       "      <th></th>\n",
       "      <th></th>\n",
       "      <th></th>\n",
       "      <th></th>\n",
       "      <th></th>\n",
       "      <th></th>\n",
       "      <th></th>\n",
       "      <th></th>\n",
       "    </tr>\n",
       "  </thead>\n",
       "  <tbody>\n",
       "    <tr>\n",
       "      <th>2</th>\n",
       "      <td>0.0</td>\n",
       "      <td>0.472229</td>\n",
       "      <td>0.2</td>\n",
       "      <td>0.0</td>\n",
       "      <td>0.685892</td>\n",
       "      <td>0.25</td>\n",
       "      <td>0</td>\n",
       "      <td>0</td>\n",
       "      <td>0</td>\n",
       "      <td>0</td>\n",
       "      <td>...</td>\n",
       "      <td>0</td>\n",
       "      <td>0</td>\n",
       "      <td>0</td>\n",
       "      <td>0</td>\n",
       "      <td>0</td>\n",
       "      <td>1</td>\n",
       "      <td>0</td>\n",
       "      <td>0</td>\n",
       "      <td>0</td>\n",
       "      <td>0</td>\n",
       "    </tr>\n",
       "    <tr>\n",
       "      <th>3</th>\n",
       "      <td>1.0</td>\n",
       "      <td>0.321438</td>\n",
       "      <td>0.0</td>\n",
       "      <td>0.0</td>\n",
       "      <td>0.350727</td>\n",
       "      <td>0.00</td>\n",
       "      <td>0</td>\n",
       "      <td>0</td>\n",
       "      <td>1</td>\n",
       "      <td>0</td>\n",
       "      <td>...</td>\n",
       "      <td>0</td>\n",
       "      <td>1</td>\n",
       "      <td>0</td>\n",
       "      <td>0</td>\n",
       "      <td>0</td>\n",
       "      <td>0</td>\n",
       "      <td>0</td>\n",
       "      <td>0</td>\n",
       "      <td>0</td>\n",
       "      <td>0</td>\n",
       "    </tr>\n",
       "    <tr>\n",
       "      <th>4</th>\n",
       "      <td>0.0</td>\n",
       "      <td>0.434531</td>\n",
       "      <td>0.2</td>\n",
       "      <td>0.0</td>\n",
       "      <td>0.639463</td>\n",
       "      <td>0.25</td>\n",
       "      <td>0</td>\n",
       "      <td>0</td>\n",
       "      <td>1</td>\n",
       "      <td>0</td>\n",
       "      <td>...</td>\n",
       "      <td>0</td>\n",
       "      <td>0</td>\n",
       "      <td>0</td>\n",
       "      <td>0</td>\n",
       "      <td>0</td>\n",
       "      <td>1</td>\n",
       "      <td>0</td>\n",
       "      <td>0</td>\n",
       "      <td>0</td>\n",
       "      <td>0</td>\n",
       "    </tr>\n",
       "    <tr>\n",
       "      <th>5</th>\n",
       "      <td>1.0</td>\n",
       "      <td>0.434531</td>\n",
       "      <td>0.0</td>\n",
       "      <td>0.0</td>\n",
       "      <td>0.352955</td>\n",
       "      <td>0.00</td>\n",
       "      <td>1</td>\n",
       "      <td>0</td>\n",
       "      <td>1</td>\n",
       "      <td>0</td>\n",
       "      <td>...</td>\n",
       "      <td>0</td>\n",
       "      <td>0</td>\n",
       "      <td>0</td>\n",
       "      <td>0</td>\n",
       "      <td>1</td>\n",
       "      <td>0</td>\n",
       "      <td>0</td>\n",
       "      <td>0</td>\n",
       "      <td>0</td>\n",
       "      <td>0</td>\n",
       "    </tr>\n",
       "    <tr>\n",
       "      <th>7</th>\n",
       "      <td>0.0</td>\n",
       "      <td>0.673285</td>\n",
       "      <td>0.0</td>\n",
       "      <td>0.0</td>\n",
       "      <td>0.635755</td>\n",
       "      <td>0.25</td>\n",
       "      <td>1</td>\n",
       "      <td>0</td>\n",
       "      <td>1</td>\n",
       "      <td>0</td>\n",
       "      <td>...</td>\n",
       "      <td>0</td>\n",
       "      <td>0</td>\n",
       "      <td>0</td>\n",
       "      <td>0</td>\n",
       "      <td>1</td>\n",
       "      <td>0</td>\n",
       "      <td>0</td>\n",
       "      <td>0</td>\n",
       "      <td>0</td>\n",
       "      <td>0</td>\n",
       "    </tr>\n",
       "  </tbody>\n",
       "</table>\n",
       "<p>5 rows × 33 columns</p>\n",
       "</div>"
      ],
      "text/plain": [
       "             Pclass       Age  SibSp  Parch      Fare  Cabins_count  Sex_male  \\\n",
       "PassengerId                                                                     \n",
       "2               0.0  0.472229    0.2    0.0  0.685892          0.25         0   \n",
       "3               1.0  0.321438    0.0    0.0  0.350727          0.00         0   \n",
       "4               0.0  0.434531    0.2    0.0  0.639463          0.25         0   \n",
       "5               1.0  0.434531    0.0    0.0  0.352955          0.00         1   \n",
       "7               0.0  0.673285    0.0    0.0  0.635755          0.25         1   \n",
       "\n",
       "             Embarked_Q  Embarked_S  Cabin_letter_B  ...  Title_Master  \\\n",
       "PassengerId                                          ...                 \n",
       "2                     0           0               0  ...             0   \n",
       "3                     0           1               0  ...             0   \n",
       "4                     0           1               0  ...             0   \n",
       "5                     0           1               0  ...             0   \n",
       "7                     0           1               0  ...             0   \n",
       "\n",
       "             Title_Miss  Title_Mlle  Title_Mme  Title_Mr  Title_Mrs  Title_Ms  \\\n",
       "PassengerId                                                                     \n",
       "2                     0           0          0         0          1         0   \n",
       "3                     1           0          0         0          0         0   \n",
       "4                     0           0          0         0          1         0   \n",
       "5                     0           0          0         1          0         0   \n",
       "7                     0           0          0         1          0         0   \n",
       "\n",
       "             Title_Rev  Title_Sir  Title_the Countess  \n",
       "PassengerId                                            \n",
       "2                    0          0                   0  \n",
       "3                    0          0                   0  \n",
       "4                    0          0                   0  \n",
       "5                    0          0                   0  \n",
       "7                    0          0                   0  \n",
       "\n",
       "[5 rows x 33 columns]"
      ]
     },
     "execution_count": 382,
     "metadata": {},
     "output_type": "execute_result"
    }
   ],
   "source": [
    "# Split features and target\n",
    "x_train = original_data.drop([\"Name\", \"Survived\", \"Cabin\"], axis=1)\n",
    "y_train = original_data[\"Survived\"]\n",
    "\n",
    "# Normalization\n",
    "# np.log(x.SibSp+1).hist() (unused)\n",
    "x_train.Fare = np.log(x_train.Fare+1)\n",
    "x_train.head()\n",
    "\n",
    "# ultimately decided to drop the ticket feature altogether\n",
    "dummies = pd.get_dummies(x_train[[\"Sex\", \"Embarked\", \"Cabin_letter\", \"Title\"]], drop_first=True)\n",
    "x_train.drop([\"Sex\", \"Embarked\", \"Cabin_letter\", \"Title\", \"Ticket\"], axis=1, inplace=True)\n",
    "x_train = pd.concat([x_train, dummies], axis=1)\n",
    "# x_train.Ticket = x_train.Ticket.astype(float) (dropped)\n",
    "\n",
    "cols_to_scale = [\"Pclass\", \"Age\", \"SibSp\", \"Parch\", \"Fare\", \"Cabins_count\"]\n",
    "scaler = MinMaxScaler()\n",
    "x_train[cols_to_scale] = scaler.fit_transform(x_train[cols_to_scale])\n",
    "\n",
    "x_test = x_train.sample(frac=0.2, random_state=1)\n",
    "y_test = y_train.loc[x_test.index]\n",
    "y_train = y_train.drop(y_test.index)\n",
    "x_train = x_train.drop(x_test.index)\n",
    "\n",
    "x_train.head()"
   ]
  },
  {
   "cell_type": "markdown",
   "metadata": {},
   "source": [
    "#### 6. Basic models"
   ]
  },
  {
   "cell_type": "code",
   "execution_count": 383,
   "metadata": {},
   "outputs": [
    {
     "name": "stdout",
     "output_type": "stream",
     "text": [
      "Naive Bayes CV\n",
      "[0.68421053 0.75438596 0.73684211 0.68421053 0.40350877 0.70175439\n",
      " 0.78947368 0.77192982 0.8245614  0.71929825]\n",
      "0.7070175438596491\n",
      "\t---------------------------------------------\n",
      "Logistic Regression CV\n",
      "[0.85964912 0.75438596 0.84210526 0.87719298 0.80701754 0.85964912\n",
      " 0.80701754 0.78947368 0.84210526 0.8245614 ]\n",
      "0.8263157894736842\n",
      "\t---------------------------------------------\n",
      "Decision Tree CV\n",
      "[0.73684211 0.70175439 0.77192982 0.73684211 0.75438596 0.80701754\n",
      " 0.73684211 0.68421053 0.78947368 0.78947368]\n",
      "0.7508771929824561\n",
      "\t---------------------------------------------\n",
      "Support Vector Machine CV\n",
      "[0.84210526 0.78947368 0.84210526 0.84210526 0.8245614  0.80701754\n",
      " 0.77192982 0.71929825 0.85964912 0.85964912]\n",
      "0.8157894736842104\n",
      "\t---------------------------------------------\n",
      "K Nearest Neighbour CV\n",
      "[0.85964912 0.8245614  0.84210526 0.85964912 0.85964912 0.80701754\n",
      " 0.84210526 0.75438596 0.87719298 0.80701754]\n",
      "0.8333333333333334\n",
      "\t---------------------------------------------\n"
     ]
    }
   ],
   "source": [
    "# Naive Bayes\n",
    "nb_model = GaussianNB()\n",
    "nb_cv = cross_val_score(nb_model, x_train, y_train, cv=10)\n",
    "print(\"Naive Bayes CV\", nb_cv, nb_cv.mean(), sep='\\n', end=endDel)\n",
    "\n",
    "# Logistic Regression\n",
    "lr_model = LogisticRegression(max_iter=2000)\n",
    "lr_cv = cross_val_score(lr_model, x_train, y_train, cv=10)\n",
    "print(\"Logistic Regression CV\", lr_cv, lr_cv.mean(), sep='\\n', end=endDel)\n",
    "\n",
    "# Decision Tree\n",
    "dt_model = tree.DecisionTreeClassifier(random_state=1)\n",
    "dt_cv = cross_val_score(dt_model, x_train, y_train, cv=10)\n",
    "print(\"Decision Tree CV\", dt_cv, dt_cv.mean(), sep='\\n', end=endDel)\n",
    "\n",
    "# Support Vector Machine\n",
    "svc_model = SVC(probability=True)\n",
    "svc_cv = cross_val_score(svc_model, x_train, y_train, cv=10)\n",
    "print(\"Support Vector Machine CV\", svc_cv, svc_cv.mean(), sep='\\n', end=endDel)\n",
    "\n",
    "# K Nearest Neighbour\n",
    "knn_model = KNeighborsClassifier()\n",
    "knn_cv = cross_val_score(knn_model, x_train, y_train, cv=10)\n",
    "print(\"K Nearest Neighbour CV\", knn_cv, knn_cv.mean(), sep='\\n', end=endDel)"
   ]
  },
  {
   "cell_type": "markdown",
   "metadata": {},
   "source": [
    "#### 7. Ensemble models"
   ]
  },
  {
   "cell_type": "code",
   "execution_count": 384,
   "metadata": {},
   "outputs": [
    {
     "name": "stdout",
     "output_type": "stream",
     "text": [
      "Gradient Boost CV\n",
      "[0.78947368 0.73684211 0.80701754 0.87719298 0.8245614  0.85964912\n",
      " 0.8245614  0.77192982 0.87719298 0.87719298]\n",
      "0.8245614035087719\n",
      "\t---------------------------------------------\n",
      "Random forest CV\n",
      "[0.75438596 0.73684211 0.84210526 0.87719298 0.78947368 0.80701754\n",
      " 0.78947368 0.75438596 0.84210526 0.84210526]\n",
      "0.8035087719298245\n",
      "\t---------------------------------------------\n",
      "Voting Classifier CV\n",
      "[0.84210526 0.73684211 0.84210526 0.85964912 0.80701754 0.84210526\n",
      " 0.8245614  0.75438596 0.87719298 0.85964912]\n",
      "0.8245614035087719\n",
      "\t---------------------------------------------\n"
     ]
    }
   ],
   "source": [
    "# Gradient Boost\n",
    "xgb_model = XGBClassifier(random_state =1)\n",
    "xgb_cv = cross_val_score(xgb_model, x_train, y_train,cv=10)\n",
    "print(\"Gradient Boost CV\", xgb_cv, xgb_cv.mean(), sep='\\n', end=endDel)\n",
    "\n",
    "# Random forest\n",
    "rf_model = RandomForestClassifier(random_state=1)\n",
    "rf_cv = cross_val_score(rf_model, x_train, y_train, cv=10)\n",
    "print(\"Random forest CV\", rf_cv, rf_cv.mean(), sep='\\n', end=endDel)\n",
    "\n",
    "# Voting classifier\n",
    "voting_clf = VotingClassifier(estimators=[(\"nb_model\", nb_model), (\"lr_model\", lr_model), (\"dt_model\", dt_model), (\"svc_model\", svc_model),\n",
    "(\"knn_model\", knn_model), (\"rf_model\", rf_model), (\"xgb_model\", xgb_model)], voting = \"soft\")\n",
    " \n",
    "vc_cv = cross_val_score(voting_clf, x_train, y_train, cv=10)\n",
    "print(\"Voting Classifier CV\", vc_cv, vc_cv.mean(), sep='\\n', end=endDel)"
   ]
  },
  {
   "cell_type": "markdown",
   "metadata": {},
   "source": [
    "#### 8. Models grid search"
   ]
  },
  {
   "cell_type": "markdown",
   "metadata": {},
   "source": [
    "##### Logistic Regression"
   ]
  },
  {
   "cell_type": "code",
   "execution_count": 385,
   "metadata": {},
   "outputs": [
    {
     "name": "stdout",
     "output_type": "stream",
     "text": [
      "Fitting 10 folds for each of 120 candidates, totalling 1200 fits\n",
      "best score: 0.8298245614035087\n",
      "best parameters: {'C': 1.623776739188721, 'max_iter': 2000, 'penalty': 'l2', 'solver': 'liblinear'}\n"
     ]
    }
   ],
   "source": [
    "# Logitic regression\n",
    "lr_gs = GridSearchCV(lr_model, param_grid = {\n",
    "    'max_iter' : [2000, 4000, 6000],\n",
    "    'penalty' : ['l1', 'l2'],\n",
    "    'C' : np.logspace(-4, 4, 20),\n",
    "    'solver' : ['liblinear']},\n",
    "    cv = 10, verbose = 1, n_jobs = -1).fit(x_train, y_train)\n",
    "print('best score:', lr_gs.best_score_)\n",
    "print('best parameters:', lr_gs.best_params_)"
   ]
  },
  {
   "cell_type": "markdown",
   "metadata": {},
   "source": [
    "##### KNN"
   ]
  },
  {
   "cell_type": "code",
   "execution_count": 386,
   "metadata": {},
   "outputs": [
    {
     "name": "stdout",
     "output_type": "stream",
     "text": [
      "Fitting 10 folds for each of 48 candidates, totalling 480 fits\n",
      "best score: 0.8350877192982455\n",
      "best parameters: {'algorithm': 'auto', 'n_neighbors': 5, 'p': 1, 'weights': 'uniform'}\n"
     ]
    }
   ],
   "source": [
    "# KNN\n",
    "knn_gs = GridSearchCV(knn_model, param_grid = {\n",
    "    'n_neighbors' : [3,5,7,9],\n",
    "    'weights' : ['uniform', 'distance'],\n",
    "    'algorithm' : ['auto', 'ball_tree','kd_tree'],\n",
    "    'p' : [1,2]},\n",
    "    cv = 10, verbose = 1, n_jobs = -1).fit(x_train, y_train)\n",
    "print('best score:', knn_gs.best_score_)\n",
    "print('best parameters:', knn_gs.best_params_)"
   ]
  },
  {
   "cell_type": "markdown",
   "metadata": {},
   "source": [
    "##### SVC"
   ]
  },
  {
   "cell_type": "code",
   "execution_count": 387,
   "metadata": {},
   "outputs": [
    {
     "name": "stdout",
     "output_type": "stream",
     "text": [
      "Fitting 10 folds for each of 32 candidates, totalling 320 fits\n",
      "best score: 0.8280701754385964\n",
      "best parameters: {'C': 1, 'gamma': 1, 'kernel': 'rbf'}\n"
     ]
    }
   ],
   "source": [
    "# SVC\n",
    "svc_gs = GridSearchCV(svc_model, param_grid = [\n",
    "    {\n",
    "        'kernel': ['rbf'], \n",
    "        'gamma': [0.1, .5, 1, 5, 10],\n",
    "        'C': [0.1, 1, 10, 100]\n",
    "    },\n",
    "    {\n",
    "        'kernel': ['linear'], \n",
    "        'C': [0.1, 1, 10, 100]\n",
    "    },\n",
    "    {\n",
    "        'kernel': ['poly'], \n",
    "        'degree' : [2, 3],\n",
    "        'C': [0.1, 1, 10, 100]\n",
    "    }],\n",
    "    cv = 10, verbose = 1, n_jobs = -1).fit(x_train, y_train)\n",
    "print('best score:', svc_gs.best_score_)\n",
    "print('best parameters:', svc_gs.best_params_)"
   ]
  },
  {
   "cell_type": "markdown",
   "metadata": {},
   "source": [
    "##### Random Forest"
   ]
  },
  {
   "cell_type": "code",
   "execution_count": 388,
   "metadata": {},
   "outputs": [
    {
     "name": "stdout",
     "output_type": "stream",
     "text": [
      "Fitting 10 folds for each of 96 candidates, totalling 960 fits\n",
      "best score: 0.8333333333333333\n",
      "best parameters: {'bootstrap': True, 'criterion': 'gini', 'max_depth': 15, 'max_features': 'sqrt', 'min_samples_leaf': 2, 'min_samples_split': 2, 'n_estimators': 400}\n"
     ]
    }
   ],
   "source": [
    "# Random forest\n",
    "rf_gs = GridSearchCV(rf_model, param_grid = {\n",
    "    'n_estimators': [400, 500, 550],\n",
    "    'criterion':['gini', 'entropy'],\n",
    "    'bootstrap': [True],\n",
    "    'max_depth': [15, 20],\n",
    "    'max_features': ['sqrt', 10],\n",
    "    'min_samples_leaf': [2, 3],\n",
    "    'min_samples_split': [2, 3]},\n",
    "    cv = 10, verbose = True, n_jobs = -1).fit(x_train, y_train)\n",
    "print('best score:', rf_gs.best_score_)\n",
    "print('best parameters:', rf_gs.best_params_)"
   ]
  },
  {
   "cell_type": "markdown",
   "metadata": {},
   "source": [
    "##### XGB"
   ]
  },
  {
   "cell_type": "code",
   "execution_count": 389,
   "metadata": {},
   "outputs": [
    {
     "name": "stdout",
     "output_type": "stream",
     "text": [
      "Fitting 5 folds for each of 48 candidates, totalling 240 fits\n",
      "best score: 0.8456140350877194\n",
      "best parameters: {'colsample_bytree': 0.75, 'gamma': 0.5, 'learning_rate': 0.5, 'max_depth': None, 'min_child_weight': 0.01, 'n_estimators': 450, 'reg_alpha': 1, 'reg_lambda': 10, 'sampling_method': 'uniform', 'subsample': 0.55}\n"
     ]
    }
   ],
   "source": [
    "# XGB\n",
    "xgb_gs = GridSearchCV(xgb_model, param_grid = {\n",
    "    'n_estimators': [450, 500],\n",
    "    'colsample_bytree': [0.75, 0.8],\n",
    "    'max_depth': [None],\n",
    "    'reg_alpha': [1],\n",
    "    'reg_lambda': [2, 5, 10],\n",
    "    'subsample': [0.55, 0.6],\n",
    "    'learning_rate':[0.5],\n",
    "    'gamma':[.5, 1],\n",
    "    'min_child_weight':[0.01],\n",
    "    'sampling_method': ['uniform']},\n",
    "    cv = 5, verbose = True, n_jobs = -1).fit(x_train, y_train)\n",
    "print('best score:', xgb_gs.best_score_)\n",
    "print('best parameters:', xgb_gs.best_params_)"
   ]
  },
  {
   "cell_type": "markdown",
   "metadata": {},
   "source": [
    "#### 9. Models Testing"
   ]
  },
  {
   "cell_type": "code",
   "execution_count": 390,
   "metadata": {},
   "outputs": [
    {
     "name": "stdout",
     "output_type": "stream",
     "text": [
      "xgb_gs 0.7676056338028169\n",
      "\t---------------------------------------------\n",
      "rf_gs 0.7746478873239436\n",
      "\t---------------------------------------------\n",
      "svc_gs 0.7887323943661971\n",
      "\t---------------------------------------------\n",
      "knn_gs 0.7605633802816901\n",
      "\t---------------------------------------------\n",
      "lr_gs 0.8028169014084507\n",
      "\t---------------------------------------------\n"
     ]
    }
   ],
   "source": [
    "models = {\n",
    "    \"xgb_gs\": xgb_gs,\n",
    "    \"rf_gs\": rf_gs,\n",
    "    \"svc_gs\": svc_gs,\n",
    "    \"knn_gs\": knn_gs,\n",
    "    \"lr_gs\": lr_gs \n",
    "}\n",
    "\n",
    "def test_model(model_name, model):\n",
    "    print(model_name, model.score(x_test, y_test), end=endDel)\n",
    "\n",
    "for k, v in models.items():\n",
    "    test_model(k, v)"
   ]
  },
  {
   "cell_type": "markdown",
   "metadata": {},
   "source": [
    "#### 10. Submission"
   ]
  },
  {
   "cell_type": "markdown",
   "metadata": {},
   "source": [
    "##### Preprocessing"
   ]
  },
  {
   "cell_type": "code",
   "execution_count": 391,
   "metadata": {},
   "outputs": [
    {
     "data": {
      "text/html": [
       "<div>\n",
       "<style scoped>\n",
       "    .dataframe tbody tr th:only-of-type {\n",
       "        vertical-align: middle;\n",
       "    }\n",
       "\n",
       "    .dataframe tbody tr th {\n",
       "        vertical-align: top;\n",
       "    }\n",
       "\n",
       "    .dataframe thead th {\n",
       "        text-align: right;\n",
       "    }\n",
       "</style>\n",
       "<table border=\"1\" class=\"dataframe\">\n",
       "  <thead>\n",
       "    <tr style=\"text-align: right;\">\n",
       "      <th></th>\n",
       "      <th>Pclass</th>\n",
       "      <th>Age</th>\n",
       "      <th>SibSp</th>\n",
       "      <th>Parch</th>\n",
       "      <th>Fare</th>\n",
       "      <th>Cabins_count</th>\n",
       "      <th>Sex_male</th>\n",
       "      <th>Embarked_Q</th>\n",
       "      <th>Embarked_S</th>\n",
       "      <th>Cabin_letter_B</th>\n",
       "      <th>...</th>\n",
       "      <th>Title_Master</th>\n",
       "      <th>Title_Miss</th>\n",
       "      <th>Title_Mlle</th>\n",
       "      <th>Title_Mme</th>\n",
       "      <th>Title_Mr</th>\n",
       "      <th>Title_Mrs</th>\n",
       "      <th>Title_Ms</th>\n",
       "      <th>Title_Rev</th>\n",
       "      <th>Title_Sir</th>\n",
       "      <th>Title_the Countess</th>\n",
       "    </tr>\n",
       "    <tr>\n",
       "      <th>PassengerId</th>\n",
       "      <th></th>\n",
       "      <th></th>\n",
       "      <th></th>\n",
       "      <th></th>\n",
       "      <th></th>\n",
       "      <th></th>\n",
       "      <th></th>\n",
       "      <th></th>\n",
       "      <th></th>\n",
       "      <th></th>\n",
       "      <th></th>\n",
       "      <th></th>\n",
       "      <th></th>\n",
       "      <th></th>\n",
       "      <th></th>\n",
       "      <th></th>\n",
       "      <th></th>\n",
       "      <th></th>\n",
       "      <th></th>\n",
       "      <th></th>\n",
       "      <th></th>\n",
       "    </tr>\n",
       "  </thead>\n",
       "  <tbody>\n",
       "    <tr>\n",
       "      <th>892</th>\n",
       "      <td>1.0</td>\n",
       "      <td>0.428248</td>\n",
       "      <td>0.0</td>\n",
       "      <td>0.000000</td>\n",
       "      <td>0.348997</td>\n",
       "      <td>0.0</td>\n",
       "      <td>0</td>\n",
       "      <td>1</td>\n",
       "      <td>0</td>\n",
       "      <td>0</td>\n",
       "      <td>...</td>\n",
       "      <td>0</td>\n",
       "      <td>0</td>\n",
       "      <td>0</td>\n",
       "      <td>0</td>\n",
       "      <td>1</td>\n",
       "      <td>0</td>\n",
       "      <td>0</td>\n",
       "      <td>0</td>\n",
       "      <td>0</td>\n",
       "      <td>0</td>\n",
       "    </tr>\n",
       "    <tr>\n",
       "      <th>893</th>\n",
       "      <td>1.0</td>\n",
       "      <td>0.585323</td>\n",
       "      <td>0.2</td>\n",
       "      <td>0.000000</td>\n",
       "      <td>0.333195</td>\n",
       "      <td>0.0</td>\n",
       "      <td>0</td>\n",
       "      <td>0</td>\n",
       "      <td>1</td>\n",
       "      <td>0</td>\n",
       "      <td>...</td>\n",
       "      <td>0</td>\n",
       "      <td>0</td>\n",
       "      <td>0</td>\n",
       "      <td>0</td>\n",
       "      <td>0</td>\n",
       "      <td>1</td>\n",
       "      <td>0</td>\n",
       "      <td>0</td>\n",
       "      <td>0</td>\n",
       "      <td>0</td>\n",
       "    </tr>\n",
       "    <tr>\n",
       "      <th>894</th>\n",
       "      <td>0.5</td>\n",
       "      <td>0.773813</td>\n",
       "      <td>0.0</td>\n",
       "      <td>0.000000</td>\n",
       "      <td>0.379604</td>\n",
       "      <td>0.0</td>\n",
       "      <td>0</td>\n",
       "      <td>1</td>\n",
       "      <td>0</td>\n",
       "      <td>0</td>\n",
       "      <td>...</td>\n",
       "      <td>0</td>\n",
       "      <td>0</td>\n",
       "      <td>0</td>\n",
       "      <td>0</td>\n",
       "      <td>1</td>\n",
       "      <td>0</td>\n",
       "      <td>0</td>\n",
       "      <td>0</td>\n",
       "      <td>0</td>\n",
       "      <td>0</td>\n",
       "    </tr>\n",
       "    <tr>\n",
       "      <th>895</th>\n",
       "      <td>1.0</td>\n",
       "      <td>0.334004</td>\n",
       "      <td>0.0</td>\n",
       "      <td>0.000000</td>\n",
       "      <td>0.363449</td>\n",
       "      <td>0.0</td>\n",
       "      <td>0</td>\n",
       "      <td>0</td>\n",
       "      <td>1</td>\n",
       "      <td>0</td>\n",
       "      <td>...</td>\n",
       "      <td>0</td>\n",
       "      <td>0</td>\n",
       "      <td>0</td>\n",
       "      <td>0</td>\n",
       "      <td>1</td>\n",
       "      <td>0</td>\n",
       "      <td>0</td>\n",
       "      <td>0</td>\n",
       "      <td>0</td>\n",
       "      <td>0</td>\n",
       "    </tr>\n",
       "    <tr>\n",
       "      <th>896</th>\n",
       "      <td>1.0</td>\n",
       "      <td>0.271174</td>\n",
       "      <td>0.2</td>\n",
       "      <td>0.166667</td>\n",
       "      <td>0.414494</td>\n",
       "      <td>0.0</td>\n",
       "      <td>0</td>\n",
       "      <td>0</td>\n",
       "      <td>1</td>\n",
       "      <td>0</td>\n",
       "      <td>...</td>\n",
       "      <td>0</td>\n",
       "      <td>0</td>\n",
       "      <td>0</td>\n",
       "      <td>0</td>\n",
       "      <td>0</td>\n",
       "      <td>1</td>\n",
       "      <td>0</td>\n",
       "      <td>0</td>\n",
       "      <td>0</td>\n",
       "      <td>0</td>\n",
       "    </tr>\n",
       "  </tbody>\n",
       "</table>\n",
       "<p>5 rows × 33 columns</p>\n",
       "</div>"
      ],
      "text/plain": [
       "             Pclass       Age  SibSp     Parch      Fare  Cabins_count  \\\n",
       "PassengerId                                                              \n",
       "892             1.0  0.428248    0.0  0.000000  0.348997           0.0   \n",
       "893             1.0  0.585323    0.2  0.000000  0.333195           0.0   \n",
       "894             0.5  0.773813    0.0  0.000000  0.379604           0.0   \n",
       "895             1.0  0.334004    0.0  0.000000  0.363449           0.0   \n",
       "896             1.0  0.271174    0.2  0.166667  0.414494           0.0   \n",
       "\n",
       "             Sex_male  Embarked_Q  Embarked_S  Cabin_letter_B  ...  \\\n",
       "PassengerId                                                    ...   \n",
       "892                 0           1           0               0  ...   \n",
       "893                 0           0           1               0  ...   \n",
       "894                 0           1           0               0  ...   \n",
       "895                 0           0           1               0  ...   \n",
       "896                 0           0           1               0  ...   \n",
       "\n",
       "             Title_Master  Title_Miss  Title_Mlle  Title_Mme  Title_Mr  \\\n",
       "PassengerId                                                              \n",
       "892                     0           0           0          0         1   \n",
       "893                     0           0           0          0         0   \n",
       "894                     0           0           0          0         1   \n",
       "895                     0           0           0          0         1   \n",
       "896                     0           0           0          0         0   \n",
       "\n",
       "             Title_Mrs  Title_Ms  Title_Rev  Title_Sir  Title_the Countess  \n",
       "PassengerId                                                                 \n",
       "892                  0         0          0          0                   0  \n",
       "893                  1         0          0          0                   0  \n",
       "894                  0         0          0          0                   0  \n",
       "895                  0         0          0          0                   0  \n",
       "896                  1         0          0          0                   0  \n",
       "\n",
       "[5 rows x 33 columns]"
      ]
     },
     "execution_count": 391,
     "metadata": {},
     "output_type": "execute_result"
    }
   ],
   "source": [
    "test_data = pd.read_csv(\"Data/test.csv\", index_col=\"PassengerId\").astype({\"Ticket\": str})\n",
    "\n",
    "test_data[\"Cabins_count\"] = test_data.Cabin.apply(lambda x : 0 if pd.isna(x) else len(x.split(' ')))\n",
    "test_data[\"Cabin_letter\"] = test_data.Cabin.apply(lambda x: str(x)[0].strip())\n",
    "test_data[\"Title\"] = test_data.Name.apply(lambda x: x.split(',')[1].split('.')[0].strip())\n",
    "\n",
    "test_data.Fare = np.log(test_data.Fare+1)\n",
    "test_data.Sex = test_data.Sex.map({\"male\": 0, \"female\":1})\n",
    "test_data[scaler.feature_names_in_] = scaler.transform(test_data[scaler.feature_names_in_])\n",
    "\n",
    "test_data = test_data.drop([\"Name\", \"Cabin\", \"Ticket\"], axis=1)\n",
    "\n",
    "test_data = pd.concat([test_data, pd.get_dummies(test_data[[\"Sex\", \"Embarked\", \"Cabin_letter\", \"Title\"]], drop_first=True)], axis=1)\n",
    "test_data.drop([\"Sex\", \"Embarked\", \"Cabin_letter\", \"Title\"], axis=1, inplace=True)\n",
    "\n",
    "# print(set(test_data.columns)-set(x_train.columns)) # in test but not in train\n",
    "# print(set(x_train.columns)-set(test_data.columns)) # in train but not in test\n",
    "test_data = test_data.reindex(columns = x_train.columns, fill_value=0) # removes extra cols and adds missing ones\n",
    "\n",
    "# Filling NA with mean\n",
    "test_data.isna().sum()\n",
    "test_data.Age.fillna(x_train.Age.mean(), inplace=True)\n",
    "test_data.Fare.fillna(x_train.Fare.mean(), inplace=True)\n",
    "\n",
    "test_data.head()"
   ]
  },
  {
   "cell_type": "markdown",
   "metadata": {},
   "source": [
    "##### Submission"
   ]
  },
  {
   "cell_type": "code",
   "execution_count": 392,
   "metadata": {},
   "outputs": [],
   "source": [
    "def save_submission(model_name, model):\n",
    "    submission = pd.DataFrame(data={'PassengerId': test_data.index, 'Survived': model.predict(test_data)})\n",
    "    submission.to_csv(\"Submissions/\"+model_name+\"_submission.csv\", index=False)\n",
    "\n",
    "for k, v in models.items():\n",
    "    save_submission(k, v)"
   ]
  }
 ],
 "metadata": {
  "kernelspec": {
   "display_name": "Python 3.9.13 64-bit",
   "language": "python",
   "name": "python3"
  },
  "language_info": {
   "codemirror_mode": {
    "name": "ipython",
    "version": 3
   },
   "file_extension": ".py",
   "mimetype": "text/x-python",
   "name": "python",
   "nbconvert_exporter": "python",
   "pygments_lexer": "ipython3",
   "version": "3.9.13"
  },
  "orig_nbformat": 4,
  "vscode": {
   "interpreter": {
    "hash": "b0fa6594d8f4cbf19f97940f81e996739fb7646882a419484c72d19e05852a7e"
   }
  }
 },
 "nbformat": 4,
 "nbformat_minor": 2
}
